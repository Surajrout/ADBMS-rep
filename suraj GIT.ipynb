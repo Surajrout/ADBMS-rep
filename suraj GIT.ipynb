{
 "cells": [
  {
   "cell_type": "code",
   "execution_count": 8,
   "id": "3f7b41ad",
   "metadata": {},
   "outputs": [],
   "source": [
    "import mysql.connector\n",
    "import pandas as pd"
   ]
  },
  {
   "cell_type": "code",
   "execution_count": 9,
   "id": "1e6341d0",
   "metadata": {},
   "outputs": [
    {
     "name": "stdout",
     "output_type": "stream",
     "text": [
      "<mysql.connector.connection.MySQLConnection object at 0x00000162BC8AE640>\n"
     ]
    }
   ],
   "source": [
    "mydb= mysql.connector.connect(\n",
    "  host=\"localhost\",\n",
    "    port=\"3306\",\n",
    "  user=\"root\",\n",
    "  password=\"\",\n",
    "    database=\"newdatabase\"\n",
    ")\n",
    "print(mydb)"
   ]
  },
  {
   "cell_type": "code",
   "execution_count": 6,
   "id": "2792aa43",
   "metadata": {},
   "outputs": [],
   "source": [
    "mycursor=mydb.cursor()"
   ]
  },
  {
   "cell_type": "code",
   "execution_count": 9,
   "id": "2fc24817",
   "metadata": {},
   "outputs": [],
   "source": [
    "#Order the tuples in the instructors relation as per their salary\n",
    "\n",
    "query1 = '''CREATE VIEW faculty2 AS\n",
    "SELECT ID, name, dept_name\n",
    "FROM instructor'''\n",
    "mycursor.execute(query1)\n",
    "mydb.commit()\n",
    "mycursor.close()"
   ]
  },
  {
   "cell_type": "code",
   "execution_count": 12,
   "id": "90397744",
   "metadata": {},
   "outputs": [],
   "source": []
  },
  {
   "cell_type": "code",
   "execution_count": null,
   "id": "142c32b8",
   "metadata": {},
   "outputs": [],
   "source": []
  }
 ],
 "metadata": {
  "kernelspec": {
   "display_name": "Python 3 (ipykernel)",
   "language": "python",
   "name": "python3"
  },
  "language_info": {
   "codemirror_mode": {
    "name": "ipython",
    "version": 3
   },
   "file_extension": ".py",
   "mimetype": "text/x-python",
   "name": "python",
   "nbconvert_exporter": "python",
   "pygments_lexer": "ipython3",
   "version": "3.9.12"
  }
 },
 "nbformat": 4,
 "nbformat_minor": 5
}
